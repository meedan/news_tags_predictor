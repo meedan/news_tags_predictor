{
 "cells": [
  {
   "cell_type": "code",
   "execution_count": null,
   "metadata": {
    "id": "fIKt2kIwk_p-"
   },
   "outputs": [],
   "source": [
    "from google.colab import drive\n",
    "drive.mount('/content/drive')"
   ]
  },
  {
   "cell_type": "code",
   "execution_count": null,
   "metadata": {
    "id": "sU5xnp6GlKEc"
   },
   "outputs": [],
   "source": [
    "%cd /content/drive/MyDrive/news_tagging_model\n",
    "# !mkdir news_tagging_model"
   ]
  },
  {
   "cell_type": "code",
   "execution_count": null,
   "metadata": {
    "id": "-y4061-ild8H"
   },
   "outputs": [],
   "source": [
    "!pip install transformers\n",
    "!pip install sentencepiece\n",
    "!pip install -U sentence-transformers\n"
   ]
  },
  {
   "cell_type": "code",
   "execution_count": null,
   "metadata": {
    "id": "bT4XqlcOllxh"
   },
   "outputs": [],
   "source": [
    "import pandas as pd\n",
    "df = pd.read_csv(\"estadao_2010.csv\")\n",
    "df.category.value_counts()\n",
    "df = df.sample(10000)\n",
    "df_health = df[df['category'] == 'politica']\n",
    "df_health\n",
    "df_not_health = df[df['category'] != 'politica']\n",
    "df_not_health = df_not_health.sample(n=len(df_health),random_state=10)\n",
    "df_balanced = df_not_health.append(df_health)\n",
    "df_balanced.to_csv(\"balanced.csv\")"
   ]
  },
  {
   "cell_type": "code",
   "execution_count": null,
   "metadata": {
    "id": "qKjd1tBWlkJ2"
   },
   "outputs": [],
   "source": [
    "from transformers import AutoTokenizer, AutoModelForSequenceClassification\n",
    "from transformers import Trainer, TrainingArguments\n",
    "\n",
    "import torch\n",
    "from torch.utils.data import Dataset\n",
    "# from omegaconf import DictConfig, OmegaConf\n",
    "# import hydra\n",
    "import pandas as pd\n",
    "from sklearn.model_selection import train_test_split\n",
    "import numpy as np\n",
    "# import wandb\n",
    "import os\n",
    "from sklearn.metrics import accuracy_score, f1_score, recall_score, precision_score"
   ]
  },
  {
   "cell_type": "code",
   "execution_count": null,
   "metadata": {
    "id": "qmWdFc4Altde"
   },
   "outputs": [],
   "source": [
    "def compute_metrics(outs):\n",
    "    predictions, labels = outs\n",
    "    predictions = np.argmax(predictions, axis = -1)\n",
    "\n",
    "    ## computes overall scores (accuracy, f1, recall, precision)\n",
    "    accuracy = accuracy_score(labels, predictions) * 100\n",
    "    f1 = f1_score(labels, predictions, average = \"macro\") * 100\n",
    "    recall = recall_score(labels, predictions, average = \"macro\") * 100\n",
    "    precision = precision_score(labels, predictions, average = \"macro\") * 100\n",
    "\n",
    "    return {\n",
    "        \"accuracy\" : float(accuracy),\n",
    "        \"f1\" : float(f1),\n",
    "        \"recall\" : float(recall),\n",
    "        \"precision\" : float(precision),\n",
    "    }\n",
    "\n",
    "def encode_labels(labels):\n",
    "  labels_set = set(labels)\n",
    "  endcoded_labels = labels\n",
    "  # counter = 0\n",
    "  # for current_label in labels_set:\n",
    "  for j in range(len(endcoded_labels)):\n",
    "    # print(endcoded_labels[j] )\n",
    "    if endcoded_labels[j] == 'politica':\n",
    "      endcoded_labels[j] = 1\n",
    "    else:\n",
    "      endcoded_labels[j] = 0\n",
    "      # if endcoded_labels[j] == current_label:\n",
    "      #   endcoded_labels[j] = counter\n",
    "    # counter+=1\n",
    "  return endcoded_labels\n",
    "\n",
    "def load_data(path):\n",
    "    \"\"\"\n",
    "    read CSV file and return the tweets and labels lists\n",
    "    \"\"\"\n",
    "    df = pd.read_csv(path)\n",
    "    titles = df['title'].tolist()\n",
    "    labels = encode_labels(df['category'].tolist())\n",
    "    print(\"max(labels)\")\n",
    "\n",
    "    print(max(labels))\n",
    "    return titles, labels\n",
    "    "
   ]
  },
  {
   "cell_type": "code",
   "execution_count": null,
   "metadata": {
    "id": "sf1Fg3bpl52I"
   },
   "outputs": [],
   "source": [
    "# class MultiDialectDataset(Dataset):\n",
    "#     def __init__(self, encodings, labels):\n",
    "#         self.encodings = encodings\n",
    "#         self.labels = labels\n",
    "\n",
    "#     def __getitem__(self, idx):\n",
    "#         item = {key: torch.tensor(val[idx]) for key, val in self.encodings.items()}\n",
    "#         if self.labels != None:\n",
    "#           item['labels'] = torch.tensor(self.labels[idx])\n",
    "#         return item\n",
    "\n",
    "#     def __len__(self):\n",
    "#         return len(self.labels)"
   ]
  },
  {
   "cell_type": "code",
   "execution_count": null,
   "metadata": {
    "id": "MkZUKLy7l6aR"
   },
   "outputs": [],
   "source": [
    "# print(\"Loading Model...\")\n",
    "# model = AutoModelForSequenceClassification.from_pretrained(\"/content/drive/MyDrive/news_tagging_model/microsoft_Multilingual-MiniLM-L12-H384_finetune_politica_out_10e_freeze/best_ckpt\", num_labels = 2)\n",
    "# print(\"Loading Tokenizer...\")\n",
    "# tokenizer = AutoTokenizer.from_pretrained(\"/content/drive/MyDrive/news_tagging_model/microsoft_Multilingual-MiniLM-L12-H384_finetune_politica_out_10e_freeze/best_ckpt\")\n"
   ]
  },
  {
   "cell_type": "code",
   "execution_count": null,
   "metadata": {
    "id": "q7ICX7ccmFk5"
   },
   "outputs": [],
   "source": [
    "train_all_tweets, train_all_labels = load_data(\"/content/drive/MyDrive/news_tagging_model/balanced.csv\")\n",
    "test_tweets, test_labels = load_data(\"/content/drive/MyDrive/news_tagging_model/balanced.csv\")\n",
    "\n",
    "#split the train_all to train and validation\n",
    "train_tweets, val_tweets, train_labels, val_labels = train_test_split(\n",
    "    train_all_tweets,\n",
    "    train_all_labels,\n",
    "    test_size=.25,\n",
    "    random_state= 10)"
   ]
  },
  {
   "cell_type": "code",
   "execution_count": null,
   "metadata": {
    "id": "h4D_a2dgmOSr"
   },
   "outputs": [],
   "source": [
    "from sentence_transformers import SentenceTransformer\n",
    "model = SentenceTransformer('microsoft/Multilingual-MiniLM-L12-H384')\n",
    "\n",
    "train_tweets_embeddings = model.encode(train_tweets, show_progress_bar = True )\n",
    "val_tweets_embeddings = model.encode(val_tweets, show_progress_bar = True )"
   ]
  },
  {
   "cell_type": "code",
   "execution_count": null,
   "metadata": {
    "id": "BH8TZidP0WRt"
   },
   "outputs": [],
   "source": [
    "# from sklearn.decomposition import PCA\n",
    "# import matplotlib.pyplot as plt\n",
    "# from matplotlib.pyplot import figure\n",
    "\n",
    "# pca = PCA()\n",
    "# Xt = pca.fit_transform(train_tweets_embeddings)\n",
    "\n",
    "# figure(figsize=(10, 10), dpi=80)\n",
    "# plot = plt.scatter(Xt[:,0], Xt[:,1], c=train_labels)\n",
    "# plt.legend(handles=plot.legend_elements()[0], labels=list(train_labels))\n",
    "# plt.show()"
   ]
  },
  {
   "cell_type": "code",
   "execution_count": null,
   "metadata": {
    "id": "4umLq6ECmoQo"
   },
   "outputs": [],
   "source": [
    "from sklearn.feature_extraction.text import TfidfVectorizer\n",
    "from sklearn.naive_bayes import MultinomialNB\n",
    "from sklearn import metrics"
   ]
  },
  {
   "cell_type": "code",
   "execution_count": null,
   "metadata": {
    "id": "4WHLKA6O0Vu6"
   },
   "outputs": [],
   "source": []
  },
  {
   "cell_type": "code",
   "execution_count": null,
   "metadata": {
    "id": "QsBytWKgsTCp"
   },
   "outputs": [],
   "source": [
    "def make_embeddings_positive(embeddings):\n",
    "  min_emb = 100\n",
    "  for emb in embeddings:\n",
    "    current_min_emb = min(emb)\n",
    "    if current_min_emb < min_emb:\n",
    "      min_emb = current_min_emb\n",
    "  \n",
    "  min_emb = min_emb - 0.1 # just to not include 0\n",
    "  min_emb = min_emb * (-1)\n",
    "  for i in range(len(embeddings)):\n",
    "    for j in range(len(embeddings[i])):\n",
    "      embeddings[i][j]+=min_emb\n",
    "\n",
    "  return embeddings\n",
    "  # embeddings_fixed = []\n",
    "  # for emb in embeddings:\n",
    "  #   new_emb = []\n",
    "  #   for x in emb:\n",
    "  #     new_emb.append(x+min_emb)\n",
    "  #   embeddings_fixed.append(new_emb)\n",
    "  # return embeddings_fixed\n",
    "   \n",
    "\n"
   ]
  },
  {
   "cell_type": "code",
   "execution_count": null,
   "metadata": {
    "id": "44va9yxKspZU"
   },
   "outputs": [],
   "source": [
    "train_tweets_embeddings_fixed = make_embeddings_positive(train_tweets_embeddings)\n",
    "val_tweets_embeddings_fixed = make_embeddings_positive(val_tweets_embeddings)"
   ]
  },
  {
   "cell_type": "code",
   "execution_count": null,
   "metadata": {
    "id": "91a9GP7Yr59C"
   },
   "outputs": [],
   "source": [
    "\n",
    "naive_bayes_classifier = MultinomialNB()\n",
    "naive_bayes_classifier.fit(train_tweets_embeddings_fixed, train_labels)"
   ]
  },
  {
   "cell_type": "code",
   "execution_count": null,
   "metadata": {
    "id": "IieAD7_8oreO"
   },
   "outputs": [],
   "source": [
    " #predicted y\n",
    "\n",
    "y_pred = naive_bayes_classifier.predict(val_tweets_embeddings_fixed)"
   ]
  },
  {
   "cell_type": "code",
   "execution_count": null,
   "metadata": {
    "id": "cm8z62FdszcZ"
   },
   "outputs": [],
   "source": [
    "# print(metrics.classification_report(test_y, y_pred,\n",
    "#                                             target_names=['Positive', 'Negative']))\n",
    "print(metrics.classification_report(val_labels, y_pred,\n",
    "                                            ))"
   ]
  },
  {
   "cell_type": "code",
   "execution_count": null,
   "metadata": {
    "id": "k6uwDa3Ps1s0"
   },
   "outputs": [],
   "source": []
  },
  {
   "cell_type": "code",
   "execution_count": null,
   "metadata": {
    "id": "EJlhQN_IvKCc"
   },
   "outputs": [],
   "source": [
    "#               precision    recall  f1-score   support\n",
    "\n",
    "#            0       0.73      0.73      0.73     53593\n",
    "#            1       0.73      0.73      0.73     53914\n",
    "\n",
    "#     accuracy                           0.73    107507\n",
    "#    macro avg       0.73      0.73      0.73    107507\n",
    "# weighted avg       0.73      0.73      0.73    107507\n"
   ]
  },
  {
   "cell_type": "code",
   "execution_count": null,
   "metadata": {
    "id": "hST1mhuFy_ta"
   },
   "outputs": [],
   "source": []
  }
 ],
 "metadata": {
  "accelerator": "GPU",
  "colab": {
   "background_execution": "on",
   "collapsed_sections": [],
   "machine_shape": "hm",
   "provenance": []
  },
  "gpuClass": "standard",
  "kernelspec": {
   "display_name": "Python 3 (ipykernel)",
   "language": "python",
   "name": "python3"
  },
  "language_info": {
   "codemirror_mode": {
    "name": "ipython",
    "version": 3
   },
   "file_extension": ".py",
   "mimetype": "text/x-python",
   "name": "python",
   "nbconvert_exporter": "python",
   "pygments_lexer": "ipython3",
   "version": "3.8.5"
  }
 },
 "nbformat": 4,
 "nbformat_minor": 1
}

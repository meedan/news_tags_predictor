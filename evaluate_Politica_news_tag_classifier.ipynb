{
 "cells": [
  {
   "cell_type": "code",
   "execution_count": null,
   "metadata": {
    "id": "O0t7_5kUA_eX"
   },
   "outputs": [],
   "source": [
    "from google.colab import drive\n",
    "drive.mount('/content/drive')"
   ]
  },
  {
   "cell_type": "code",
   "execution_count": null,
   "metadata": {
    "id": "cPoRwATMBFon"
   },
   "outputs": [],
   "source": [
    "%cd /content/drive/MyDrive/news_tagging_model\n",
    "# !mkdir news_tagging_model"
   ]
  },
  {
   "cell_type": "code",
   "execution_count": null,
   "metadata": {
    "id": "GSrBONl2BMRB"
   },
   "outputs": [],
   "source": [
    "!pip install transformers\n",
    "!pip install sentencepiece"
   ]
  },
  {
   "cell_type": "code",
   "execution_count": null,
   "metadata": {
    "id": "Lqe51aoeBQAP"
   },
   "outputs": [],
   "source": [
    "from transformers import AutoTokenizer, AutoModelForSequenceClassification\n",
    "from transformers import Trainer, TrainingArguments\n",
    "import torch\n",
    "from torch.utils.data import Dataset\n",
    "import pandas as pd\n",
    "from sklearn.model_selection import train_test_split\n",
    "import numpy as np\n",
    "import os\n",
    "from sklearn.metrics import accuracy_score, f1_score, recall_score, precision_score"
   ]
  },
  {
   "cell_type": "code",
   "execution_count": null,
   "metadata": {
    "id": "CXHF6sctBWRc"
   },
   "outputs": [],
   "source": [
    "def compute_metrics(outs):\n",
    "    predictions, labels = outs\n",
    "    predictions = np.argmax(predictions, axis = -1)\n",
    "\n",
    "    ## computes overall scores (accuracy, f1, recall, precision)\n",
    "    accuracy = accuracy_score(labels, predictions) * 100\n",
    "    f1 = f1_score(labels, predictions, average = \"macro\") * 100\n",
    "    recall = recall_score(labels, predictions, average = \"macro\") * 100\n",
    "    precision = precision_score(labels, predictions, average = \"macro\") * 100\n",
    "\n",
    "    return {\n",
    "        \"accuracy\" : float(accuracy),\n",
    "        \"f1\" : float(f1),\n",
    "        \"recall\" : float(recall),\n",
    "        \"precision\" : float(precision),\n",
    "    }"
   ]
  },
  {
   "cell_type": "code",
   "execution_count": null,
   "metadata": {
    "id": "UtkW8heMBZDu"
   },
   "outputs": [],
   "source": [
    "def encode_labels(labels):\n",
    "  labels_set = set(labels)\n",
    "  endcoded_labels = labels\n",
    "\n",
    "  for j in range(len(endcoded_labels)):\n",
    "    if endcoded_labels[j] == 'TRUE':\n",
    "      endcoded_labels[j] = 1\n",
    "    else:\n",
    "      endcoded_labels[j] = 0\n",
    "\n",
    "  return endcoded_labels\n",
    "\n",
    "# encode_labels([\"x\",\"health\",\"y\",\"x\",\"z\"])"
   ]
  },
  {
   "cell_type": "code",
   "execution_count": null,
   "metadata": {
    "id": "gGxbYdiqBZVi"
   },
   "outputs": [],
   "source": [
    "def load_data(path):\n",
    "    \"\"\"\n",
    "    read CSV file and return the tweets and labels lists\n",
    "    \"\"\"\n",
    "    df = pd.read_csv(path)\n",
    "    titles = df['title'].tolist()\n",
    "    labels = encode_labels(df['Politics_Label'].tolist())\n",
    "    print(\"max(labels)\")\n",
    "\n",
    "    print(max(labels))\n",
    "    return titles, labels"
   ]
  },
  {
   "cell_type": "code",
   "execution_count": null,
   "metadata": {
    "id": "9622YwuUBabH"
   },
   "outputs": [],
   "source": [
    "class MultiDialectDataset(Dataset):\n",
    "    def __init__(self, encodings, labels):\n",
    "        self.encodings = encodings\n",
    "        self.labels = labels\n",
    "\n",
    "    def __getitem__(self, idx):\n",
    "        item = {key: torch.tensor(val[idx]) for key, val in self.encodings.items()}\n",
    "        if self.labels != None:\n",
    "          item['labels'] = torch.tensor(self.labels[idx])\n",
    "        return item\n",
    "\n",
    "    def __len__(self):\n",
    "        return len(self.labels)"
   ]
  },
  {
   "cell_type": "code",
   "execution_count": null,
   "metadata": {
    "id": "dFZYfJ58CiR5"
   },
   "outputs": [],
   "source": [
    "df = pd.read_csv(\"Brazilian politics - estadao-export-2022-08-09.csv\")\n",
    "df"
   ]
  },
  {
   "cell_type": "code",
   "execution_count": null,
   "metadata": {
    "id": "N1rJ3X8bDaMK"
   },
   "outputs": [],
   "source": [
    "df.Politics_Label.value_counts()"
   ]
  },
  {
   "cell_type": "code",
   "execution_count": null,
   "metadata": {
    "id": "J1F9gpT9DhQt"
   },
   "outputs": [],
   "source": [
    "df =  df[df.Politics_Label.isin(['FALSE','TRUE'])]\n",
    "df"
   ]
  },
  {
   "cell_type": "code",
   "execution_count": null,
   "metadata": {
    "id": "Kn8T5zzzDycK"
   },
   "outputs": [],
   "source": [
    "val_tweets = df.title.tolist()\n",
    "val_labels = []\n",
    "for i in  df.Politics_Label.tolist():\n",
    "  if i == 'FALSE':\n",
    "    val_labels.append(0)\n",
    "  elif i == 'TRUE':\n",
    "    val_labels.append(1)\n",
    "# val_labels.replace('FALSE',0)"
   ]
  },
  {
   "cell_type": "code",
   "execution_count": null,
   "metadata": {
    "id": "QAhUJc8fBbi2"
   },
   "outputs": [],
   "source": [
    "print(\"Loading Model...\")\n",
    "model = AutoModelForSequenceClassification.from_pretrained(\"/content/drive/MyDrive/news_tagging_model/finetune_out/best_ckpt\", num_labels = 2)\n",
    "print(\"Loading Tokenizer...\")\n",
    "tokenizer = AutoTokenizer.from_pretrained(\"/content/drive/MyDrive/news_tagging_model/finetune_out/best_ckpt\")\n"
   ]
  },
  {
   "cell_type": "code",
   "execution_count": null,
   "metadata": {
    "id": "Awv8NatdBh8Y"
   },
   "outputs": [],
   "source": [
    "print(\"Tokenizeing the inputs...\")\n",
    "val_encodings = tokenizer(val_tweets,\n",
    "                          truncation=True,\n",
    "                          padding=True,\n",
    "                            #max_length=model.config.max_position_embeddings\n",
    "                          )"
   ]
  },
  {
   "cell_type": "code",
   "execution_count": null,
   "metadata": {
    "id": "ND--_y3oBjm4"
   },
   "outputs": [],
   "source": [
    "val_ds = MultiDialectDataset(val_encodings, val_labels)\n"
   ]
  },
  {
   "cell_type": "code",
   "execution_count": null,
   "metadata": {
    "id": "wM0_DmuiBk9z"
   },
   "outputs": [],
   "source": [
    "trainer = Trainer(model=model)\n",
    "trainer.model = model.cuda()\n"
   ]
  },
  {
   "cell_type": "code",
   "execution_count": null,
   "metadata": {
    "id": "V0aJWJqnBmFK"
   },
   "outputs": [],
   "source": [
    "val_pred = trainer.predict(val_ds)\n"
   ]
  },
  {
   "cell_type": "code",
   "execution_count": null,
   "metadata": {
    "id": "FODeLTRSCGLi"
   },
   "outputs": [],
   "source": [
    "pred_0 = []\n",
    "pred_1 = []\n",
    "ispolitics_pred = []\n",
    "for pred in val_pred.predictions:\n",
    "  pred_0.append(pred[0])\n",
    "  pred_1.append(pred[1])\n",
    "  if pred[0]>pred[1]:\n",
    "    ispolitics_pred.append(0)\n",
    "  else:\n",
    "    ispolitics_pred.append(1)"
   ]
  },
  {
   "cell_type": "code",
   "execution_count": null,
   "metadata": {
    "id": "OQx6-N2TCKX5"
   },
   "outputs": [],
   "source": [
    "df_results = pd.DataFrame({'title':val_tweets,'ispolitics_truth':val_labels,'ispolitics_pred':ispolitics_pred,'pred_0':pred_0,'pred_1':pred_1})"
   ]
  },
  {
   "cell_type": "code",
   "execution_count": null,
   "metadata": {
    "id": "bGNYTX3ACL3d"
   },
   "outputs": [],
   "source": [
    "df_results.to_csv('Brazilian politics - estadao-export-2022-08-09 - prediction_output.csv')"
   ]
  },
  {
   "cell_type": "code",
   "execution_count": null,
   "metadata": {
    "id": "3M9r188FCMTZ"
   },
   "outputs": [],
   "source": [
    "from sklearn.metrics import confusion_matrix, ConfusionMatrixDisplay\n",
    "\n",
    "cm = confusion_matrix(val_labels, ispolitics_pred)\n",
    "\n",
    "disp = ConfusionMatrixDisplay(confusion_matrix=cm)\n",
    "disp.plot()\n",
    "\n"
   ]
  },
  {
   "cell_type": "code",
   "execution_count": null,
   "metadata": {
    "id": "-btt3iJACNaG"
   },
   "outputs": [],
   "source": [
    "from sklearn.metrics import f1_score"
   ]
  },
  {
   "cell_type": "code",
   "execution_count": null,
   "metadata": {
    "id": "y5AzQIaC4rDK"
   },
   "outputs": [],
   "source": [
    "f1_score(val_labels, ispolitics_pred)\n",
    "\n"
   ]
  }
 ],
 "metadata": {
  "accelerator": "GPU",
  "colab": {
   "collapsed_sections": [],
   "provenance": []
  },
  "gpuClass": "standard",
  "kernelspec": {
   "display_name": "Python 3 (ipykernel)",
   "language": "python",
   "name": "python3"
  },
  "language_info": {
   "codemirror_mode": {
    "name": "ipython",
    "version": 3
   },
   "file_extension": ".py",
   "mimetype": "text/x-python",
   "name": "python",
   "nbconvert_exporter": "python",
   "pygments_lexer": "ipython3",
   "version": "3.8.5"
  }
 },
 "nbformat": 4,
 "nbformat_minor": 1
}
